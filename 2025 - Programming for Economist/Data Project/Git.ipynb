{
 "cells": [
  {
   "cell_type": "markdown",
   "metadata": {},
   "source": [
    "# Git"
   ]
  },
  {
   "cell_type": "markdown",
   "metadata": {},
   "source": [
    "**Table of contents**<a id='toc0_'></a>    \n",
    "- 1. [Central Git terms and commands](#toc1_)    \n",
    "  - 1.1. [Terms](#toc1_1_)    \n",
    "  - 1.2. [Commands](#toc1_2_)    \n",
    "- 2. [Practice](#toc2_)    \n",
    "- 3. [Merge conflicts](#toc3_)    \n",
    "- 4. [More](#toc4_)    \n",
    "\n",
    "<!-- vscode-jupyter-toc-config\n",
    "\tnumbering=true\n",
    "\tanchor=true\n",
    "\tflat=false\n",
    "\tminLevel=2\n",
    "\tmaxLevel=6\n",
    "\t/vscode-jupyter-toc-config -->\n",
    "<!-- THIS CELL WILL BE REPLACED ON TOC UPDATE. DO NOT WRITE YOUR TEXT IN THIS CELL -->"
   ]
  },
  {
   "attachments": {},
   "cell_type": "markdown",
   "metadata": {},
   "source": [
    "You will learn to use ``Git`` in ``VSCode``."
   ]
  },
  {
   "attachments": {},
   "cell_type": "markdown",
   "metadata": {},
   "source": [
    "## 1. <a id='toc1_'></a>[Git concepts and commands](#toc0_)"
   ]
  },
  {
   "attachments": {},
   "cell_type": "markdown",
   "metadata": {},
   "source": [
    "### 1.1. <a id='toc1_1_'></a>[Concepts](#toc0_)\n",
    "\n",
    "* the **local repository** is a folder on your own computer.\n",
    "* the **remote repository** is your Github repository.\n",
    "* a **branch:** is a separate track (or copy) of the repository.\n",
    "* **.gitignore** a file with rules for files to ignore.\n",
    "* **.git** hidden folder with diff and head files containing history of changes.\n",
    "\n",
    "You will only work with a **main** branch. \n",
    "\n",
    "* Additional branches can be used to develop new stuff \n",
    "* ... and then later merge them on the main branch.\n",
    "\n",
    "You won't need to edit *.gitignore* or look in the *.git* folder."
   ]
  },
  {
   "attachments": {},
   "cell_type": "markdown",
   "metadata": {},
   "source": [
    "### 1.2. <a id='toc1_2_'></a>[Commands](#toc0_)\n",
    "\n",
    "**Downloading:**\n",
    "\n",
    "1. **Fetch:** Get list of remotely added or changed files.\n",
    "2. **Merge:** Merge in all remote changes to your local repository.\n",
    "3. **Pull:** Combination of fetching and merging.\n",
    "\n",
    "**Uploading:**\n",
    "\n",
    "1. **Stage:** Set list of files you have added or changed .\n",
    "2. **Commit:** Label the staged package.\n",
    "3. **Push:** Apply the changes to the remote repository (assuming you are *admin*).\n",
    "\n",
    "**In VS Code** you only need to use two commands:\n",
    "\n",
    "* **Commit all:** *Stage* and *commit*. \n",
    "* **Sync:** First *pull* and then *push*."
   ]
  },
  {
   "cell_type": "markdown",
   "metadata": {},
   "source": [
    "## 2. <a id='toc2_'></a>[Practice](#toc0_)"
   ]
  },
  {
   "attachments": {},
   "cell_type": "markdown",
   "metadata": {},
   "source": [
    "**To get started:** Set up your own repository following [Make your own Github classroom repository guide](https://sites.google.com/view/numeconcph-introprog/guides/git)\n",
    "\n",
    "My example repository is https://github.com/NumEconCopenhagen/projects-2023-test\n",
    "\n"
   ]
  },
  {
   "attachments": {},
   "cell_type": "markdown",
   "metadata": {},
   "source": [
    "**Task:** Make, view and sync changes.\n",
    "\n",
    "1. Open ``README.md`` in your repository.\n",
    "2. Change some lines of text and delete some others.\n",
    "3. Click on the symbols next to line number to see what have changed.\n",
    "4. Press ``Alt+F3`` to go to next change.\n",
    "5. Open ``Source Control`` (e.g. by ``Ctrl+Shift+G``).\n",
    "6. Click on ``README.MD`` to see ``Working Tree`` with changes, and close again.\n",
    "7. Note:\n",
    "\n",
    "    A ``M`` implies the file is *Modfieid*.\n",
    "\n",
    "    A ``U`` implied the file is *Untracked* (i.e. new).\n",
    "\n",
    "    A ``D`` implied the file is *Deleted*.\n",
    "\n",
    "    You can ``Discard Changes`` by clicking backward bending arrow. \n",
    "    \n",
    "\n",
    "7. Write ``Message`` and click ``Commit``.\n",
    "8. Click ``Sync``."
   ]
  },
  {
   "attachments": {},
   "cell_type": "markdown",
   "metadata": {},
   "source": [
    "**Observation:** Even working on you own Git can help you get an overview of what you are chaing.\n",
    "\n",
    "**Note:** Git can be used from the command control palette, ``Ctrl+Shift+P``."
   ]
  },
  {
   "cell_type": "markdown",
   "metadata": {},
   "source": [
    "## 3. <a id='toc3_'></a>[Merge conflicts](#toc0_)\n",
    "\n",
    "**Problem:** You are changing code-lines, which have already been changed remotely!\n",
    "\n",
    "**Avoid:** Run ``Sync`` each time before you start working.\n",
    "\n",
    "**Resolve:** Use point-and-click in ``VSCode``.\n",
    "\n",
    "**Brute-force:** \n",
    "\n",
    "1. Copy-out content of current local repository and delete folder.\n",
    "2. ``Clone`` the remote repository again (*with the conflicting added and updated files*).\n",
    "3. Copy-in new files one-by-one and evaluate changes."
   ]
  },
  {
   "attachments": {},
   "cell_type": "markdown",
   "metadata": {},
   "source": [
    "## 4. <a id='toc4_'></a>[More on Git](#toc0_)"
   ]
  },
  {
   "attachments": {},
   "cell_type": "markdown",
   "metadata": {},
   "source": [
    "1. Follow [Introduction to Git](https://www.datacamp.com/courses/introduction-to-git) at DataCamp\n",
    "2. See video on [Using Git with Visual Studio Code (Official Tutorial)](https://www.youtube.com/watch?v=i_23KUAEtUM)"
   ]
  }
 ],
 "metadata": {
  "kernelspec": {
   "display_name": "base",
   "language": "python",
   "name": "python3"
  },
  "language_info": {
   "codemirror_mode": {
    "name": "ipython",
    "version": 3
   },
   "file_extension": ".py",
   "mimetype": "text/x-python",
   "name": "python",
   "nbconvert_exporter": "python",
   "pygments_lexer": "ipython3",
   "version": "3.9.15 (main, Nov 24 2022, 14:39:17) [MSC v.1916 64 bit (AMD64)]"
  },
  "toc-autonumbering": true,
  "vscode": {
   "interpreter": {
    "hash": "47ef90cdf3004d3f859f1fb202523c65c07ba7c22eefd261b181f4744e2d0403"
   }
  }
 },
 "nbformat": 4,
 "nbformat_minor": 4
}
