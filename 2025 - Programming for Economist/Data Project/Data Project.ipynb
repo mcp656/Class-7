{
 "cells": [
  {
   "cell_type": "markdown",
   "id": "ff4b893f",
   "metadata": {},
   "source": [
    "# Data Project"
   ]
  },
  {
   "cell_type": "markdown",
   "id": "b81f09b4",
   "metadata": {},
   "source": [
    "Here we import the necessary libraries and install the required packages."
   ]
  },
  {
   "cell_type": "code",
   "execution_count": 29,
   "id": "303513fc",
   "metadata": {},
   "outputs": [],
   "source": [
    "\n",
    "import numpy as np\n",
    "import pandas as pd\n",
    "import matplotlib.pyplot as plt\n",
    "\n",
    "colors = plt.rcParams['axes.prop_cycle'].by_key()['color']\n",
    "plt.rcParams.update({'axes.grid':True,'grid.color':'black','grid.alpha':'0.25','grid.linestyle':'--'})\n",
    "plt.rcParams.update({'font.size': 14})\n",
    "\n",
    "# # Installs\n",
    "# ! pip install fredapi\n",
    "# ! pip install git+https://github.com/alemartinello/dstapi\n",
    "\n",
    "from dstapi import DstApi\n",
    "from fredapi import Fred\n",
    "\n",
    "from helpers import f # Acts up if letters are capitalized"
   ]
  },
  {
   "cell_type": "code",
   "execution_count": null,
   "id": "6fd6bc68",
   "metadata": {},
   "outputs": [],
   "source": []
  }
 ],
 "metadata": {
  "kernelspec": {
   "display_name": "tidy_finance_environment",
   "language": "python",
   "name": "python3"
  },
  "language_info": {
   "codemirror_mode": {
    "name": "ipython",
    "version": 3
   },
   "file_extension": ".py",
   "mimetype": "text/x-python",
   "name": "python",
   "nbconvert_exporter": "python",
   "pygments_lexer": "ipython3",
   "version": "3.10.11"
  }
 },
 "nbformat": 4,
 "nbformat_minor": 5
}
