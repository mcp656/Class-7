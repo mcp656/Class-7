{
 "cells": [
  {
   "cell_type": "markdown",
   "id": "ff4b893f",
   "metadata": {},
   "source": [
    "Modules:"
   ]
  },
  {
   "cell_type": "code",
   "execution_count": null,
   "id": "303513fc",
   "metadata": {},
   "outputs": [
    {
     "name": "stdout",
     "output_type": "stream",
     "text": [
      "Collecting git+https://github.com/alemartinello/dstapi\n",
      "  Cloning https://github.com/alemartinello/dstapi to /private/var/folders/k3/9jyk10k50tg1bg0x762zj6200000gn/T/pip-req-build-j1yd6gxh\n",
      "  Running command git clone --filter=blob:none --quiet https://github.com/alemartinello/dstapi /private/var/folders/k3/9jyk10k50tg1bg0x762zj6200000gn/T/pip-req-build-j1yd6gxh\n",
      "  Resolved https://github.com/alemartinello/dstapi to commit d9eeb5a82cbc70b7d63b2ff44d92632fd77123a4\n",
      "  Preparing metadata (setup.py) ... \u001b[?25ldone\n",
      "\u001b[?25hRequirement already satisfied: pandas in /opt/anaconda3/envs/tidy_finance_environment/lib/python3.10/site-packages (from dstapi==0.2) (2.2.3)\n",
      "Requirement already satisfied: requests in /opt/anaconda3/envs/tidy_finance_environment/lib/python3.10/site-packages (from dstapi==0.2) (2.32.3)\n",
      "Requirement already satisfied: numpy>=1.22.4 in /opt/anaconda3/envs/tidy_finance_environment/lib/python3.10/site-packages (from pandas->dstapi==0.2) (1.26.0)\n",
      "Requirement already satisfied: python-dateutil>=2.8.2 in /opt/anaconda3/envs/tidy_finance_environment/lib/python3.10/site-packages (from pandas->dstapi==0.2) (2.9.0.post0)\n",
      "Requirement already satisfied: pytz>=2020.1 in /opt/anaconda3/envs/tidy_finance_environment/lib/python3.10/site-packages (from pandas->dstapi==0.2) (2025.1)\n",
      "Requirement already satisfied: tzdata>=2022.7 in /opt/anaconda3/envs/tidy_finance_environment/lib/python3.10/site-packages (from pandas->dstapi==0.2) (2025.1)\n",
      "Requirement already satisfied: six>=1.5 in /opt/anaconda3/envs/tidy_finance_environment/lib/python3.10/site-packages (from python-dateutil>=2.8.2->pandas->dstapi==0.2) (1.17.0)\n",
      "Requirement already satisfied: charset-normalizer<4,>=2 in /opt/anaconda3/envs/tidy_finance_environment/lib/python3.10/site-packages (from requests->dstapi==0.2) (3.4.1)\n",
      "Requirement already satisfied: idna<4,>=2.5 in /opt/anaconda3/envs/tidy_finance_environment/lib/python3.10/site-packages (from requests->dstapi==0.2) (3.10)\n",
      "Requirement already satisfied: urllib3<3,>=1.21.1 in /opt/anaconda3/envs/tidy_finance_environment/lib/python3.10/site-packages (from requests->dstapi==0.2) (2.3.0)\n",
      "Requirement already satisfied: certifi>=2017.4.17 in /opt/anaconda3/envs/tidy_finance_environment/lib/python3.10/site-packages (from requests->dstapi==0.2) (2025.1.31)\n",
      "Building wheels for collected packages: dstapi\n",
      "\u001b[33m  DEPRECATION: Building 'dstapi' using the legacy setup.py bdist_wheel mechanism, which will be removed in a future version. pip 25.3 will enforce this behaviour change. A possible replacement is to use the standardized build interface by setting the `--use-pep517` option, (possibly combined with `--no-build-isolation`), or adding a `pyproject.toml` file to the source tree of 'dstapi'. Discussion can be found at https://github.com/pypa/pip/issues/6334\u001b[0m\u001b[33m\n",
      "\u001b[0m  Building wheel for dstapi (setup.py) ... \u001b[?25ldone\n",
      "\u001b[?25h  Created wheel for dstapi: filename=dstapi-0.2-py3-none-any.whl size=4178 sha256=c9e878da9a90c005b031050863d4a8eda8dde5b4a1fe8354f3ae261bcce23226\n",
      "  Stored in directory: /private/var/folders/k3/9jyk10k50tg1bg0x762zj6200000gn/T/pip-ephem-wheel-cache-pzvul2o6/wheels/7a/50/11/72068d4f4cbfdef49b62aadb703cce434f3583ae985e69f2fe\n",
      "Successfully built dstapi\n",
      "Installing collected packages: dstapi\n",
      "Successfully installed dstapi-0.2\n"
     ]
    }
   ],
   "source": [
    "import numpy as np\n",
    "import pandas as pd\n",
    "import matplotlib.pyplot as plt\n",
    "\n",
    "colors = plt.rcParams['axes.prop_cycle'].by_key()['color']\n",
    "plt.rcParams.update({'axes.grid':True,'grid.color':'black','grid.alpha':'0.25','grid.linestyle':'--'})\n",
    "plt.rcParams.update({'font.size': 14})\n",
    "\n",
    "# # Installs\n",
    "# ! pip install fredapi\n",
    "# ! pip install git+https://github.com/alemartinello/dstapi\n",
    "\n",
    "from dstapi import DstApi\n",
    "from fredapi import Fred"
   ]
  },
  {
   "cell_type": "markdown",
   "id": "0ec08bcc",
   "metadata": {},
   "source": [
    "# 1.3 "
   ]
  },
  {
   "cell_type": "code",
   "execution_count": null,
   "id": "f4ce9b93",
   "metadata": {},
   "outputs": [],
   "source": []
  }
 ],
 "metadata": {
  "kernelspec": {
   "display_name": "tidy_finance_environment",
   "language": "python",
   "name": "python3"
  },
  "language_info": {
   "codemirror_mode": {
    "name": "ipython",
    "version": 3
   },
   "file_extension": ".py",
   "mimetype": "text/x-python",
   "name": "python",
   "nbconvert_exporter": "python",
   "pygments_lexer": "ipython3",
   "version": "3.10.11"
  }
 },
 "nbformat": 4,
 "nbformat_minor": 5
}
