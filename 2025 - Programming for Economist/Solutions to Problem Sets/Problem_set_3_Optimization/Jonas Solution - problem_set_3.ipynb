{
 "cells": [
  {
   "cell_type": "markdown",
   "id": "b818d88f",
   "metadata": {},
   "source": [
    "# Problem set 3: Optimization and Root Finding: The Consumer Problem"
   ]
  },
  {
   "cell_type": "markdown",
   "id": "931dff7f",
   "metadata": {},
   "source": [
    "We will take a look at solving the canonical utility maximization problem for the consumer.  "
   ]
  },
  {
   "cell_type": "markdown",
   "id": "7b9dbbae",
   "metadata": {},
   "source": [
    "**Problem set structure:** \n",
    "* Each problem set consists of tasks and problems. _Tasks_ train you in using specific techniques, while _problems_ train you in solving actual economic problems. \n",
    "* Each problem set also contains solutions, which can be found in separate Python files.\n",
    "* The Python files `A[..].py` do not run out of the box. But you can copy the code into your notebook or user module. \n",
    "* *You should really try to solve the tasks and problems on your own before looking at the answers!* \n",
    "* You goal should, however, not be to write everything from scratch. \n",
    "* Finding similar code from the lectures and adjusting it is completely ok. I rarely begin  completely from scratch, I figure out when I last did something similar and copy in the code to begin with. A quick peak at the solution, and then trying to write the solution yourself is also a very beneficial approach."
   ]
  },
  {
   "cell_type": "markdown",
   "id": "9039be74",
   "metadata": {},
   "source": [
    "**Multiple solutions:** Within the field of numerical analysis there is often many more than one way of solving a specific problem. So the solution provided is just one example. If you get the same result, but use another approach, that might be just as good (or even better)."
   ]
  },
  {
   "cell_type": "markdown",
   "id": "7d98bd40",
   "metadata": {},
   "source": [
    "**Table of contents**<a id='toc0_'></a>    \n",
    "- [1. Functions](#toc1_)    \n",
    "- [2. Function continued](#toc2_)    \n",
    "- [3. Methods to solve and optimize](#toc3_)    \n",
    "  - [3.1 Brute‑Force Grid Search](#toc3_1_)    \n",
    "  - [3.2 Bisection](#toc3_2_)    \n",
    "  - [3.3 Newton's Method](#toc3_3_)    \n",
    "  - [3.4 scipy.optimize](#toc3_4_)    \n",
    "- [4. Other Optimizers - Comparing Methods (more difficult)](#toc4_)    \n",
    "- [5. Sensitivity: Price shock](#toc5_)    \n",
    "- [6. Sensitivity: Starting Values & Solver Choices](#toc6_)    \n",
    "\n",
    "<!-- vscode-jupyter-toc-config\n",
    "\tnumbering=false\n",
    "\tanchor=true\n",
    "\tflat=false\n",
    "\tminLevel=2\n",
    "\tmaxLevel=6\n",
    "\t/vscode-jupyter-toc-config -->\n",
    "<!-- THIS CELL WILL BE REPLACED ON TOC UPDATE. DO NOT WRITE YOUR TEXT IN THIS CELL -->"
   ]
  },
  {
   "cell_type": "markdown",
   "id": "e26f60ba",
   "metadata": {},
   "source": [
    "## <a id='toc1_'></a>[1. Functions](#toc0_)"
   ]
  },
  {
   "cell_type": "markdown",
   "id": "e19659f4",
   "metadata": {},
   "source": [
    "Implement a Python version of this function:"
   ]
  },
  {
   "cell_type": "markdown",
   "id": "e93b8267",
   "metadata": {},
   "source": [
    "$$ \n",
    "u(x_1,x_2) = (\\alpha x_1^{-\\beta} + (1-\\alpha) x_2^{-\\beta})^{-1/\\beta} \n",
    "$$"
   ]
  },
  {
   "cell_type": "markdown",
   "id": "94dcc831",
   "metadata": {},
   "source": [
    "*Github Check Check*"
   ]
  },
  {
   "cell_type": "code",
   "execution_count": 1,
   "id": "352dbad1",
   "metadata": {},
   "outputs": [],
   "source": [
    "# set autoreload so that changes in A*.py files are reflected without restarting the notebook\n",
    "%load_ext autoreload\n",
    "%autoreload 2\n",
    "\n",
    "import numpy as np\n",
    "from scipy import optimize\n",
    "from timeit import default_timer as timer"
   ]
  },
  {
   "cell_type": "code",
   "execution_count": 2,
   "id": "f8382aa0",
   "metadata": {},
   "outputs": [],
   "source": [
    "# Utility function\n",
    "def utility_ces(x1, x2, alpha=1, beta=0.5):\n",
    "    if x1 > 0 and x2 > 0:\n",
    "        return (alpha * x1**-beta + (1 - alpha) * x2**-beta)**(-1/beta)"
   ]
  },
  {
   "cell_type": "markdown",
   "id": "7620a9cd",
   "metadata": {},
   "source": [
    "## <a id='toc2_'></a>[2. Function continued](#toc0_)"
   ]
  },
  {
   "cell_type": "markdown",
   "id": "edd34181",
   "metadata": {},
   "source": [
    "Solve the above consumer problem with the CES utility function.\n",
    "\n",
    "$$\n",
    "u(x_1,x_2) = (\\alpha x_1^{-\\beta} + (1-\\alpha) x_2^{-\\beta})^{-1/\\beta}\n",
    "$$"
   ]
  },
  {
   "cell_type": "markdown",
   "id": "19d86588",
   "metadata": {},
   "source": [
    "Subject to the Budget Constraint:\n",
    "$$ p_1 x_1 + p_2 x_2 \\le I, \\quad x_1 \\ge 0,\\; x_2 \\ge 0. $$"
   ]
  },
  {
   "cell_type": "markdown",
   "id": "51611a7f",
   "metadata": {},
   "source": [
    "Tasks: Use your function from above that contains the CES utility function and embed it into another function *value_of_choice_ces* that returns the value of utility *u*."
   ]
  },
  {
   "cell_type": "code",
   "execution_count": 3,
   "id": "2ccbc359",
   "metadata": {},
   "outputs": [],
   "source": [
    "# Use these baseline parameters\n",
    "alpha = 0.5\n",
    "beta = 0.000001\n",
    "I = 10\n",
    "p1 = 1\n",
    "p2 = 2\n",
    "\n",
    "# Define function - value of choice\n",
    "def value_of_choice_ces(x1, alpha, beta, p1, p2, I):\n",
    "    x2 = (I - p1 * x1) / p2\n",
    "    return utility_ces(x1, x2, alpha, beta)\n",
    "\n",
    "# Define objective funciton for minimization\n",
    "obj = lambda x1: -value_of_choice_ces(x1, alpha, beta, p1, p2, I)"
   ]
  },
  {
   "cell_type": "markdown",
   "id": "f6daf1b4",
   "metadata": {},
   "source": [
    "Next, we will compare different methods to solve the consumer problem."
   ]
  },
  {
   "cell_type": "markdown",
   "id": "3fb6fa06",
   "metadata": {},
   "source": [
    "## <a id='toc3_'></a>[3. Methods to solve and optimize](#toc0_)"
   ]
  },
  {
   "cell_type": "markdown",
   "id": "6f56fff3",
   "metadata": {},
   "source": [
    "### <a id='toc3_1_'></a>[3.1 Brute‑Force Grid Search](#toc0_)\n",
    "Set up a grid of the budget set and solve the consumer problem on the grid.\n",
    "\n",
    "**Idea:** Search over a grid for  $c_1 \\in [0, I/p_1]$, and  $c_2 \\in [0, I/p_2]$ to find the values of $c_1$ and $c_2$ that maximize utility.\n"
   ]
  },
  {
   "cell_type": "code",
   "execution_count": 4,
   "id": "2208348f",
   "metadata": {},
   "outputs": [],
   "source": [
    "from types import SimpleNamespace\n",
    "from grid_solve import print_solution"
   ]
  },
  {
   "cell_type": "markdown",
   "id": "4a508740",
   "metadata": {},
   "source": [
    "**Task**: Modify the grid search function below to add the additional parameter for the CES utility function $\\beta$ and print the results. Note that you also need to use of the utility function. Make sure it runs below."
   ]
  },
  {
   "cell_type": "code",
   "execution_count": 5,
   "id": "a1150b76",
   "metadata": {},
   "outputs": [
    {
     "name": "stdout",
     "output_type": "stream",
     "text": [
      "x1 = 4.9495\n",
      "x2 = 2.5253\n",
      "u  = 3.5354\n",
      "I-p1*x1-p2*x2 = -0.00000000\n",
      "x1*p1/I = 0.4949\n"
     ]
    }
   ],
   "source": [
    "# Modify to include beta\n",
    "def find_best_choice(u_func,alpha,beta,I,p1,p2,N1,N2,do_print=True):\n",
    "    \n",
    "    # a. allocate numpy arrays\n",
    "    shape_tuple = (N1,N2)\n",
    "    x1_values = np.empty(shape_tuple)\n",
    "    x2_values = np.empty(shape_tuple)\n",
    "    u_values = np.empty(shape_tuple)\n",
    "    \n",
    "    # b. start from guess of x1=x2=0\n",
    "    x1_best = 0\n",
    "    x2_best = 0\n",
    "    u_best = -np.inf # Initialize using a negative infinity instead of a function\n",
    "    \n",
    "    # c. loop through all possibilities\n",
    "    for i in range(N1):\n",
    "        for j in range(N2):\n",
    "            \n",
    "            # i. x1 and x2 (chained assignment)\n",
    "            x1_values[i,j] = x1 = (i/(N1-1))*I/p1\n",
    "            x2_values[i,j] = x2 = (j/(N2-1))*I/p2\n",
    "            \n",
    "            # ii. utility\n",
    "            if p1*x1 + p2*x2 <= I: # u(x1,x2) if expenditures <= income \n",
    "                u_values[i,j] = u_func(x1,x2,alpha=alpha,beta=beta)\n",
    "            else: # Negative infinity\n",
    "                u_values[i,j] = -np.inf\n",
    "\n",
    "            # iii. check if best sofar\n",
    "            if u_values[i,j] > u_best:\n",
    "                x1_best = x1_values[i,j]\n",
    "                x2_best = x2_values[i,j] \n",
    "                u_best = u_values[i,j]\n",
    "    \n",
    "    # d. print\n",
    "    if do_print:\n",
    "        print_solution(x1_best,x2_best,u_best,I,p1,p2)\n",
    "\n",
    "    return SimpleNamespace(x1_best=x1_best,x2_best=x2_best,u_best=u_best,x1_values=x1_values,x2_values=x2_values,u_values=u_values)\n",
    "\n",
    "# Check if it works\n",
    "N1 = 100\n",
    "N2 = 100\n",
    "\n",
    "sol = find_best_choice(utility_ces, alpha, beta, I, p1, p2, N1, N2, do_print=True)"
   ]
  },
  {
   "cell_type": "markdown",
   "id": "9bb8241c",
   "metadata": {},
   "source": [
    "### <a id='toc3_2_'></a>[3.2 Bisection](#toc0_)\n",
    "\n",
    "Use the bisection function from the lecture. Make sure you understand what it does first. Then, define the first‑order condition of the consumer problem with the modified utility function, which we can enforce by a **single equation in $ x_1 $**:  \n"
   ]
  },
  {
   "cell_type": "markdown",
   "id": "0e2552aa",
   "metadata": {},
   "source": [
    "FOC (interior):\n",
    "$$\\frac{\\partial u/\\partial x_1}{\\partial u/\\partial x_2}\n",
    "=\\frac{\\alpha\\,x_1^{-(\\beta+1)}}{(1-\\alpha)\\,x_2^{-(\\beta+1)}}\n",
    "=\\frac{\\alpha}{1-\\alpha}\\left(\\frac{x_2}{x_1}\\right)^{\\beta+1}\n",
    "=\\frac{p_1}{p_2}.$$\n",
    "\n",
    "Single equation in $x_1$ (with $x_2(x_1)=\\tfrac{I-p_1x_1}{p_2}$):\n",
    "$$F(x_1)\\equiv \\frac{\\alpha}{1-\\alpha}\\left(\\frac{I-p_1x_1}{p_2x_1}\\right)^{\\beta+1}-\\frac{p_1}{p_2}=0.$$"
   ]
  },
  {
   "cell_type": "markdown",
   "id": "b177a120",
   "metadata": {},
   "source": [
    "We solve $ F(x_1) = 0 $ on $[0, I/p_1]$ using **bisection**.\n"
   ]
  },
  {
   "cell_type": "markdown",
   "id": "7f979a6f",
   "metadata": {},
   "source": [
    "\n",
    "**Algorithm:** `bisection()`\n",
    "\n",
    "1. Set $a_0 = a$ and $b_0 = b$ where $f(a)$ and $f(b)$ has oposite sign, $f(a_0)f(b_0)<0$\n",
    "2. Compute $f(m_0)$ where $m_0 = (a_0 + b_0)/2$ is the midpoint.\n",
    "3. Determine the next sub-interval $[a_1,b_1]$:\n",
    "  * If $f(a_0)f(m_0) < 0$ (different signs) then $a_1 = a_0$ and $b_1 = m_0$ (i.e. focus on the range $[a_0,m_0]$).\n",
    "  * If $f(m_0)f(b_0) < 0$ (different signs) then $a_1 = m_0$ and $b_1 = b_0$ (i.e. focus on the range $[m_0,b_0]$).\n",
    "4. Repeat step 2 and step 3 until $|f(m_k)| < \\epsilon$."
   ]
  },
  {
   "cell_type": "code",
   "execution_count": 6,
   "id": "d322f797",
   "metadata": {},
   "outputs": [],
   "source": [
    "def bisection(f, a, b, tol=1e-10, max_iter=500):\n",
    "    fa, fb = f(a), f(b)\n",
    "    if np.isnan(fa) or np.isnan(fb):\n",
    "        raise ValueError(\"f(a) or f(b) is NaN.\")\n",
    "    if fa == 0.0: \n",
    "        return a, 0\n",
    "    if fb == 0.0: \n",
    "        return b, 0\n",
    "    if fa*fb > 0:\n",
    "        raise ValueError(\"Bisection: root not bracketed. Choose a,b with opposite signs.\")\n",
    "    it = 0\n",
    "    while (b - a) > tol and it < max_iter:\n",
    "        m  = 0.5*(a + b)\n",
    "        fm = f(m)\n",
    "        if fm == 0.0:\n",
    "            a = b = m\n",
    "            break\n",
    "        if fa*fm < 0:\n",
    "            b, fb = m, fm\n",
    "        else:\n",
    "            a, fa = m, fm\n",
    "        it += 1\n",
    "    return 0.5*(a + b), it"
   ]
  },
  {
   "cell_type": "markdown",
   "id": "36ea406c",
   "metadata": {},
   "source": [
    "Single equation in $x_1$ (with $x_2(x_1)=\\tfrac{I-p_1x_1}{p_2}$):\n",
    "$$F(x_1)\\equiv \\frac{\\alpha}{1-\\alpha}\\left(\\frac{I-p_1x_1}{p_2x_1}\\right)^{\\beta+1}-\\frac{p_1}{p_2}=0.$$"
   ]
  },
  {
   "cell_type": "code",
   "execution_count": 7,
   "id": "aeb8ce5b",
   "metadata": {},
   "outputs": [
    {
     "name": "stdout",
     "output_type": "stream",
     "text": [
      "Bisection: x1*=4.9999982672, x2*=2.5000008664, iterations=37\n"
     ]
    }
   ],
   "source": [
    "# Set up the function F(c1) = 0 to solve for c1*\n",
    "def F(x1, alpha, beta, p1, p2, I):\n",
    "    return alpha/(1-alpha) * ((I-p1*x1)/(p2*x1))**(beta+1) - p1/p2 \n",
    "\n",
    "# Choose a bracket around the known solution\n",
    "a_bis, b_bis = 0.0001, I/p1 - 0.0001\n",
    "\n",
    "# Set the tolerance and the maximum number of iterations\n",
    "tol=1e-10\n",
    "max_iter=500\n",
    "\n",
    "# Run the bisection method, compute x2 and print the solution\n",
    "x1_bis, it_bis = bisection(lambda x: F(x, alpha, beta, p1, p2, I), a_bis, b_bis, tol=tol, max_iter=max_iter)\n",
    "x2_bis = (I - p1*x1_bis) / p2\n",
    "\n",
    "print(f\"Bisection: x1*={x1_bis:.10f}, x2*={x2_bis:.10f}, iterations={it_bis}\")"
   ]
  },
  {
   "cell_type": "markdown",
   "id": "91becfa0",
   "metadata": {},
   "source": [
    "### <a id='toc3_3_'></a>[3.3 Newton's Method](#toc0_)\n",
    "\n",
    "Apply Newton on $ F(c_1)=0 $ where $F$ is defined above.  \n",
    "We compute $ F'(c_1)$ analytically for the CES consumer problem:\n",
    "\n",
    "**Fully expanded form**\n",
    "$\n",
    "F'(c_1)\\;=\\;-\\;\\frac{\\alpha}{1-\\alpha}\\,(\\beta+1)\\,\\frac{I}{p_2\\,c_1^{2}}\n",
    "\\left(\\frac{I-p_1 c_1}{p_2\\,c_1}\\right)^{\\beta}.\n",
    "$"
   ]
  },
  {
   "cell_type": "code",
   "execution_count": 8,
   "id": "87b21128",
   "metadata": {},
   "outputs": [
    {
     "name": "stdout",
     "output_type": "stream",
     "text": [
      "Newton: x1*=4.9999982671, x2*=2.5000008664, iterations=118\n"
     ]
    }
   ],
   "source": [
    "# Fprime function\n",
    "def Fprime(x1, alpha, beta, p1, p2, I):\n",
    "    return - alpha/(1 - alpha) * (beta + 1) * I/(p2*x1) * ((I - p1*x1)/(p2*x1))**beta\n",
    "\n",
    "# Use Newton solver to find the root\n",
    "def find_root(x0, f, df, tol=1e-12, max_iter=200):\n",
    "    x = float(x0)\n",
    "    for it in range(1, max_iter+1):\n",
    "        fx, dfx = f(x), df(x)\n",
    "        if not np.isfinite(fx) or not np.isfinite(dfx) or dfx == 0:\n",
    "            x = 0.5*(x + 0.5*I/p1)  # gentle fallback\n",
    "            continue\n",
    "        x_new = x - fx/dfx\n",
    "        if x_new <= 0 or x_new >= I/p1 or not np.isfinite(x_new):\n",
    "            x_new = 0.5*(x + 0.5*I/p1)\n",
    "        if abs(x_new - x) < tol:\n",
    "            return x_new, it\n",
    "        x = x_new\n",
    "    return x, max_iter\n",
    "\n",
    "# Run Newton\n",
    "x0 = 0.4 * (I/p1)\n",
    "x1_newt, it_newt = find_root(x0, lambda x: F(x, alpha, beta, p1, p2, I), lambda x: Fprime(x, alpha, beta, p1, p2, I), tol=1e-12)\n",
    "x2_newt = (I - p1*x1_newt) / p2\n",
    "\n",
    "print(f\"Newton: x1*={x1_newt:.10f}, x2*={x2_newt:.10f}, iterations={it_newt}\")\n"
   ]
  },
  {
   "cell_type": "markdown",
   "id": "8260192f",
   "metadata": {},
   "source": [
    "### <a id='toc3_4_'></a>[3.4 scipy.optimize](#toc0_)\n",
    "\n",
    "Solve the consumer problem now using the scipy.minimize_scalar function. Define adequate bounds.\n",
    "\n"
   ]
  },
  {
   "cell_type": "code",
   "execution_count": 9,
   "id": "2f84c13f",
   "metadata": {},
   "outputs": [
    {
     "name": "stdout",
     "output_type": "stream",
     "text": [
      "SciPy minimize_scalar: x1*=4.9999581891, x2*=2.5000209055, u*=3.5355336936\n"
     ]
    }
   ],
   "source": [
    "# Baseline parameters\n",
    "alpha = 0.5\n",
    "beta = 0.000001\n",
    "I = 10\n",
    "p1 = 1\n",
    "p2 = 2\n",
    "\n",
    "# Set bounds\n",
    "bounds = (0, I/p1)  # bounds for x1\n",
    "\n",
    "# Set objective function\n",
    "obj = lambda x1: -value_of_choice_ces(x1, alpha, beta, p1, p2, I)\n",
    "\n",
    "# Run minimize scalar\n",
    "res = optimize.minimize_scalar(obj, bounds=bounds, method='bounded')\n",
    "\n",
    "# Extract optimal x-values\n",
    "x1_optimal = res.x\n",
    "x2_optimal = (I - p1 * x1_optimal) / p2\n",
    "\n",
    "# Extract optimal utility\n",
    "u_optimal = -res.fun\n",
    "\n",
    "# Print solution\n",
    "print(f\"SciPy minimize_scalar: x1*={x1_optimal:.10f}, x2*={x2_optimal:.10f}, u*={u_optimal:.10f}\")"
   ]
  },
  {
   "cell_type": "markdown",
   "id": "25de87c3",
   "metadata": {},
   "source": [
    "\n",
    "## <a id='toc4_'></a>[4. Other Optimizers - Comparing Methods (more difficult)](#toc0_)\n",
    "\n",
    "Solve the problem now with *SLSQP* and compare the number of iterations, function evaluations, speed, and precision with *Nelder-Mead*.\n"
   ]
  },
  {
   "cell_type": "markdown",
   "id": "3003ad8d",
   "metadata": {},
   "source": [
    "This holds:\n",
    "\n",
    "\n",
    "nfev: number of function evaluations\n",
    "\n",
    "\n",
    "njev: number of Jacobian evaluations\n",
    "\n",
    "\n",
    "nit: number of iterations of the algorithm"
   ]
  },
  {
   "cell_type": "code",
   "execution_count": 10,
   "id": "8b644aa1",
   "metadata": {},
   "outputs": [
    {
     "name": "stdout",
     "output_type": "stream",
     "text": [
      "SciPy SLSQP:  message: Optimization terminated successfully\n",
      " success: True\n",
      "  status: 0\n",
      "     fun: -3.535533693620822\n",
      "       x: [ 5.000e+00]\n",
      "     nit: 1\n",
      "     jac: [ 0.000e+00]\n",
      "    nfev: 2\n",
      "    njev: 1,\n",
      " Num of secs: 0.000542207999387756\n"
     ]
    }
   ],
   "source": [
    "# Optimize with SLSQP instead\n",
    "\n",
    "# Set initial guess\n",
    "x1_initial = I / (2 * p1)  # midpoint of the bounds\n",
    "\n",
    "# Set bounds\n",
    "bounds = [(0, I/p1)]  # bounds for x1\n",
    "\n",
    "# Start time\n",
    "start_time = timer()\n",
    "\n",
    "# Run minimize with SLSQP\n",
    "res_slsqp = optimize.minimize(obj, x1_initial, method='SLSQP', bounds=bounds)\n",
    "\n",
    "# End time\n",
    "end_time = timer()\n",
    "\n",
    "# Extract optimal x-values\n",
    "x1_optimal_slsqp = res_slsqp.x[0]\n",
    "x2_optimal_slsqp = (I - p1 * x1_optimal_slsqp) / p2\n",
    "\n",
    "# Extract optimal utility\n",
    "u_optimal_slsqp = -res_slsqp.fun\n",
    "\n",
    "# Print solution\n",
    "print(f\"SciPy SLSQP: {res_slsqp},\\n Num of secs: {end_time - start_time}\")"
   ]
  },
  {
   "cell_type": "code",
   "execution_count": 11,
   "id": "efe3b566",
   "metadata": {},
   "outputs": [
    {
     "name": "stdout",
     "output_type": "stream",
     "text": [
      "SciPy Nelder-Mead:        message: Optimization terminated successfully.\n",
      "       success: True\n",
      "        status: 0\n",
      "           fun: -3.535533693620822\n",
      "             x: [ 5.000e+00]\n",
      "           nit: 13\n",
      "          nfev: 26\n",
      " final_simplex: (array([[ 5.000e+00],\n",
      "                       [ 5.000e+00]]), array([-3.536e+00, -3.536e+00])),\n",
      " Num of secs: 0.0006984170177020133\n"
     ]
    }
   ],
   "source": [
    "# Optimize with nelder-mead instead\n",
    "\n",
    "# Set initial guess\n",
    "x1_initial = I / (2 * p1)  # midpoint of the bounds\n",
    "\n",
    "# Set bounds\n",
    "bounds = [(0, I/p1)]  # bounds for x1\n",
    "\n",
    "# Time it\n",
    "start_time = timer()\n",
    "\n",
    "# Run minimize with nelder-mead\n",
    "res_nelder = optimize.minimize(obj, x1_initial, method='Nelder-Mead', bounds=bounds)\n",
    "\n",
    "# End time\n",
    "end_time = timer()\n",
    "\n",
    "# Extract optimal x-values\n",
    "x1_optimal_nelder = res_nelder.x[0]\n",
    "x2_optimal_nelder = (I - p1 * x1_optimal_nelder) / p2\n",
    "\n",
    "# Extract optimal utility\n",
    "u_optimal_nelder = -res_nelder.fun\n",
    "\n",
    "# Print solution\n",
    "print(f\"SciPy Nelder-Mead: {res_nelder},\\n Num of secs: {end_time - start_time}\")"
   ]
  },
  {
   "cell_type": "markdown",
   "id": "fae8428a",
   "metadata": {},
   "source": [
    "## <a id='toc5_'></a>[5. Sensitivity: Price shock](#toc0_)\n",
    "\n",
    "- Now, assume that the price p1 doubles. Recompute (x1_star, x2_star, u_star) for each $\\beta$.\n",
    "- For each $\\beta$, compute percentage changes relative to baseline.\n",
    "- Plot two panels, where panel A contains quantities (the percentage change in x1_star and x2_star) and panel B contains the percentage change in u_star.\n",
    "- Interpretation: Briefly explain how the substitution elasticity (lower beta) shapes x1_star, x2_star, and the utility."
   ]
  },
  {
   "cell_type": "code",
   "execution_count": 15,
   "id": "ace1221f",
   "metadata": {},
   "outputs": [
    {
     "data": {
      "image/png": "[encoded data removed]",
      "text/plain": [
       "<Figure size 900x400 with 2 Axes>"
      ]
     },
     "metadata": {},
     "output_type": "display_data"
    }
   ],
   "source": [
    "# --- CES consumer: price shock sensitivity (p1 doubles) ---\n",
    "# Utility: u(x1,x2) = (alpha * x1^(-beta) + (1 - alpha) * x2^(-beta))^(-1/beta)\n",
    "# Elasticity of substitution: sigma = 1 / (1 + beta)\n",
    "\n",
    "import numpy as np\n",
    "import matplotlib.pyplot as plt\n",
    "from matplotlib.ticker import PercentFormatter\n",
    "\n",
    "# Parameters \n",
    "# Use these baseline parameters\n",
    "alpha = 0.5\n",
    "beta = 0.000001\n",
    "I = 10\n",
    "p1 = 1\n",
    "p2 = 2\n",
    "\n",
    "betas    = np.array([0.1, 0.3, 0.5, 0.7, 0.9])  # five beta values in (0,1)\n",
    "\n",
    "# ----- helpers -----\n",
    "def sigma_from_beta(beta):\n",
    "    # elasticity of substitution\n",
    "    return 1.0 / (1.0 + beta)\n",
    "\n",
    "def ces_demands(I, p1, p2, alpha, beta):\n",
    "    \"\"\"\n",
    "    Returns (x1_star, x2_star, u_star, s1, s2) using CES duality.\n",
    "\n",
    "    Indirect utility: u_star = I / C(p),\n",
    "    where C(p) = [ alpha^sigma * p1^(1 - sigma) + (1 - alpha)^sigma * p2^(1 - sigma) ]^(1 / (1 - sigma))\n",
    "\n",
    "    Budget shares:\n",
    "      s1 = alpha^sigma * p1^(1 - sigma) / denom\n",
    "      s2 = 1 - s1\n",
    "    \"\"\"\n",
    "    sigma = sigma_from_beta(beta)\n",
    "    denom = (alpha**sigma) * (p1**(1.0 - sigma)) + ((1.0 - alpha)**sigma) * (p2**(1.0 - sigma))\n",
    "    s1 = (alpha**sigma) * (p1**(1.0 - sigma)) / denom\n",
    "    s2 = 1.0 - s1\n",
    "    x1 = (I / p1) * s1\n",
    "    x2 = (I / p2) * s2\n",
    "    C  = denom**(1.0 / (1.0 - sigma))\n",
    "    u  = I / C\n",
    "    return x1, x2, u, s1, s2\n",
    "\n",
    "# ----- baseline vs. shock (p1 doubles) -----\n",
    "base = np.array([ces_demands(I, p1,     p2, alpha, b) for b in betas]).T\n",
    "shck = np.array([ces_demands(I, 2.0*p1, p2, alpha, b) for b in betas]).T\n",
    "\n",
    "x1_b, x2_b, u_b = base[0], base[1], base[2]\n",
    "x1_s, x2_s, u_s = shck[0], shck[1], shck[2]\n",
    "\n",
    "pct = lambda new, old: 100.0 * (new - old) / old\n",
    "d_x1 = pct(x1_s, x1_b)\n",
    "d_x2 = pct(x2_s, x2_b)\n",
    "d_u  = pct(u_s,  u_b)\n",
    "\n",
    "# ----- plots -----\n",
    "\n",
    "# plots\n",
    "fig, axs = plt.subplots(1, 2, figsize=(9, 4), sharex=True)\n",
    "\n",
    "# Panel A: quantities\n",
    "axs[0].plot(betas, d_x1, marker='o', label='% change in x1_star')\n",
    "axs[0].plot(betas, d_x2, marker='o', label='% change in x2_star')\n",
    "axs[0].set_title('Quantities after p1 doubles')\n",
    "axs[0].set_xlabel('beta  (lower beta -> higher sigma)')\n",
    "axs[0].set_ylabel('% change from baseline')\n",
    "axs[0].axhline(0, linewidth=1)\n",
    "axs[0].yaxis.set_major_formatter(PercentFormatter())\n",
    "axs[0].set_xticks(betas.tolist())\n",
    "axs[0].grid(True, alpha=0.3)\n",
    "axs[0].legend(frameon=False)\n",
    "\n",
    "# Panel B: utility\n",
    "axs[1].plot(betas, d_u, marker='o', label='% change in u_star')\n",
    "axs[1].set_title('Utility after p1 doubles')\n",
    "axs[1].set_xlabel('beta')\n",
    "axs[1].set_ylabel('% change')\n",
    "axs[1].axhline(0, linewidth=1)\n",
    "axs[1].yaxis.set_major_formatter(PercentFormatter())\n",
    "axs[1].set_xticks(betas.tolist())\n",
    "axs[1].grid(True, alpha=0.3)\n",
    "axs[1].legend(frameon=False)\n",
    "\n",
    "plt.tight_layout()\n",
    "plt.show()"
   ]
  },
  {
   "cell_type": "markdown",
   "id": "93b06643",
   "metadata": {},
   "source": [
    "## <a id='toc6_'></a>[6. Sensitivity: Starting Values & Solver Choices](#toc0_)\n",
    "\n",
    "- Try different starting values for Newton and `minimize`.\n",
    "- Discuss your main observations and take-aways regarding number of iterations and function evaluations.\n",
    "- Which one was your favorite solver in this application? Why?\n"
   ]
  },
  {
   "cell_type": "code",
   "execution_count": 13,
   "id": "e97efecf",
   "metadata": {},
   "outputs": [],
   "source": [
    "\n",
    "# Try out and discuss"
   ]
  }
 ],
 "metadata": {
  "kernelspec": {
   "display_name": "tidy_finance_environment",
   "language": "python",
   "name": "python3"
  },
  "language_info": {
   "codemirror_mode": {
    "name": "ipython",
    "version": 3
   },
   "file_extension": ".py",
   "mimetype": "text/x-python",
   "name": "python",
   "nbconvert_exporter": "python",
   "pygments_lexer": "ipython3",
   "version": "3.10.11"
  }
 },
 "nbformat": 4,
 "nbformat_minor": 5
}
